{
 "cells": [
  {
   "cell_type": "code",
   "execution_count": 131,
   "metadata": {},
   "outputs": [],
   "source": [
    "import PyPDF2\n",
    "import re\n",
    "import requests\n",
    "import pandas as pd\n",
    "from itertools import combinations \n",
    "from itertools import permutations\n",
    "from itertools import chain\n"
   ]
  },
  {
   "cell_type": "code",
   "execution_count": 3,
   "metadata": {},
   "outputs": [],
   "source": [
    "id_pdf = \"id-0001\""
   ]
  },
  {
   "cell_type": "code",
   "execution_count": 4,
   "metadata": {},
   "outputs": [],
   "source": [
    "def download_pdf(url, file_name, headers):\n",
    "    response = requests.get(url, headers=headers)\n",
    "    if response.status_code == 200:\n",
    "        with open(file_name, \"wb\") as f:\n",
    "            f.write(response.content)\n",
    "    else:\n",
    "        print(response.status_code)"
   ]
  },
  {
   "cell_type": "code",
   "execution_count": 5,
   "metadata": {},
   "outputs": [],
   "source": [
    "if __name__ == \"__main__\":\n",
    "    # Define HTTP Headers\n",
    "    headers = {\n",
    "        \"User-Agent\": \"Chrome/51.0.2704.103\"\n",
    "    }\n",
    "    # Define URL\n",
    "    url = \"https://quantinar.s3.eu-west-3.amazonaws.com/\" \\\n",
    "          \"courselet_components%2F214%2F1649337741164476519520220205+\" \\\n",
    "          \"SFE+Slides+Chapter+2.1+The+Basics+of+Option+Management.pdf\"\n",
    "    # Define image file name\n",
    "    file_name = \"{}.pdf\".format(id_pdf)\n",
    "    # Download image\n",
    "    download_pdf(url, file_name, headers)"
   ]
  },
  {
   "cell_type": "code",
   "execution_count": null,
   "metadata": {},
   "outputs": [],
   "source": [
    "imported_pdf = open(file_name, 'rb')\n",
    "transformed_pdf = PyPDF2.PdfFileReader(imported_pdf)\n",
    "totalpages = transformed_pdf.numPages\n",
    "pdf_output = [transformed_pdf.getPage(i) for i in range(totalpages)]\n",
    "pdf_output = [pdf_output[i].extractText() for i in range(totalpages)]\n",
    "pdf_output"
   ]
  },
  {
   "cell_type": "code",
   "execution_count": 197,
   "metadata": {},
   "outputs": [],
   "source": [
    "pdf_output = [re.sub(pattern = \"http[^ ]*\", repl = \" \", string = pdf_output[i]) for i in range(totalpages)]\n",
    "pdf_output = [re.sub(pattern = \"(\\)|\\(|,|\\.|!|=|:|\\[|\\]|\\{|\\}|\\'|\\\"|#|<|>|\\%|\\&|\\?|\\*|\\/|-|\\$|\\+|\\d)\", repl = \" \", string = pdf_output[i]) for i in range(totalpages)]\n",
    "pdf_output = [re.sub(pattern = \"\\s{2,}\", repl = \" \", string = pdf_output[i]) for i in range(totalpages)]\n",
    "pdf_output = [re.sub(pattern = \" \\w \", repl = \" \", string = pdf_output[i]) for i in range(totalpages)]\n",
    "pdf_output = [re.sub(pattern = \" \\w \", repl = \" \", string = pdf_output[i]) for i in range(totalpages)]\n",
    "pdf_output = [pdf_output[i].lower() for i in range(totalpages)]"
   ]
  },
  {
   "cell_type": "code",
   "execution_count": 198,
   "metadata": {},
   "outputs": [],
   "source": [
    "word_list = [pdf_output[i].split(\" \") for i in range(totalpages)]\n",
    "word_list = pd.DataFrame(word_list)"
   ]
  },
  {
   "cell_type": "code",
   "execution_count": 199,
   "metadata": {},
   "outputs": [],
   "source": [
    "three_word_list = [[word_list.iloc[j, i], word_list.iloc[j, i+1], word_list.iloc[j, i+2]] for j in range(totalpages) for i in range(len(word_list) - 2) ]\n",
    "two_word_list = [[word_list.iloc[j, i], word_list.iloc[j, i+1]] for j in range(totalpages)  for i in range(len(word_list) - 1)]\n",
    "one_word_list = [word_list.iloc[j, i] for j in range(totalpages) for i in range(len(word_list))]"
   ]
  },
  {
   "cell_type": "code",
   "execution_count": 271,
   "metadata": {},
   "outputs": [],
   "source": [
    "# creating the word file\n",
    "words = three_word_list.copy()\n",
    "words = pd.DataFrame(three_word_list)\n",
    "words = [words.iloc[i,0] + \" \" + words.iloc[i,1] + \" \" + words.iloc[i,2] for i in range(len(three_word_list)) if words.iloc[i,].isna().any() == False]\n",
    "# creating the dictionary\n",
    "dictionary_three_word = dict()"
   ]
  },
  {
   "cell_type": "code",
   "execution_count": null,
   "metadata": {},
   "outputs": [],
   "source": [
    "# counting word occurances\n",
    "for word in words:\n",
    "    if word in dictionary_three_word:\n",
    "        dictionary_three_word[word] = dictionary_three_word[word] + 1\n",
    "    else:\n",
    "        dictionary_three_word[word] = 1\n",
    "dictionary_three_word"
   ]
  },
  {
   "cell_type": "code",
   "execution_count": 273,
   "metadata": {},
   "outputs": [],
   "source": [
    "# creating the dictionary\n",
    "dictionary_three_words = dictionary_three_word.items()\n",
    "\n",
    "# converting to the list\n",
    "dictionary_three_list = list(dictionary_three_words)\n",
    "\n",
    "# converting to a dataframe\n",
    "occurrence_three_matrix = pd.DataFrame(dictionary_three_list)\n",
    "\n",
    "# rename columns\n",
    "occurrence_three_matrix = occurrence_three_matrix.rename(columns={0:\"word\", 1:\"occurance\"})\n",
    "\n",
    "# clean of NaN\n",
    "occurrence_three_matrix = occurrence_three_matrix.loc[occurrence_three_matrix.word.isna() == False, ]\n",
    "occurrence_three_matrix = occurrence_three_matrix.loc[occurrence_three_matrix.word != \"None\", ]\n",
    "\n",
    "# sort values\n",
    "occurrence_three_matrix = occurrence_three_matrix.sort_values(\"occurance\", ascending=False)\n",
    "\n",
    "# re-indexing\n",
    "occurrence_three_matrix['index'] = range(len(occurrence_three_matrix))\n",
    "occurrence_three_matrix = occurrence_three_matrix.set_index('index')"
   ]
  },
  {
   "cell_type": "code",
   "execution_count": null,
   "metadata": {},
   "outputs": [],
   "source": [
    "occurrence_three_matrix"
   ]
  },
  {
   "cell_type": "code",
   "execution_count": 276,
   "metadata": {},
   "outputs": [],
   "source": [
    "# creating the word file\n",
    "words = two_word_list.copy()\n",
    "words = pd.DataFrame(two_word_list)\n",
    "words = [words.iloc[i,0] + \" \" + words.iloc[i,1] for i in range(len(two_word_list)) if words.iloc[i,].isna().any() == False]\n",
    "# creating the dictionary\n",
    "dictionary_two_word = dict()"
   ]
  },
  {
   "cell_type": "code",
   "execution_count": null,
   "metadata": {},
   "outputs": [],
   "source": [
    "# counting word occurances\n",
    "for word in words:\n",
    "    if word in dictionary_two_word:\n",
    "        dictionary_two_word[word] = dictionary_two_word[word] + 1\n",
    "    else:\n",
    "        dictionary_two_word[word] = 1\n",
    "dictionary_two_word"
   ]
  },
  {
   "cell_type": "code",
   "execution_count": 278,
   "metadata": {},
   "outputs": [],
   "source": [
    "# creating the dictionary\n",
    "dictionary_two_words = dictionary_two_word.items()\n",
    "\n",
    "# converting to the list\n",
    "dictionary_two_list = list(dictionary_two_words)\n",
    "\n",
    "# converting to a dataframe\n",
    "occurrence_two_matrix = pd.DataFrame(dictionary_two_list)\n",
    "\n",
    "# rename columns\n",
    "occurrence_two_matrix = occurrence_two_matrix.rename(columns={0:\"word\", 1:\"occurance\"})\n",
    "\n",
    "# clean of NaN\n",
    "occurrence_two_matrix = occurrence_two_matrix.loc[occurrence_two_matrix.word.isna() == False, ]\n",
    "occurrence_two_matrix = occurrence_two_matrix.loc[occurrence_two_matrix.word != \"None\", ]\n",
    "\n",
    "# sort values\n",
    "occurrence_two_matrix = occurrence_two_matrix.sort_values(\"occurance\", ascending=False)\n",
    "\n",
    "# re-indexing\n",
    "occurrence_two_matrix['index'] = range(len(occurrence_two_matrix))\n",
    "occurrence_two_matrix = occurrence_two_matrix.set_index('index')"
   ]
  },
  {
   "cell_type": "code",
   "execution_count": null,
   "metadata": {},
   "outputs": [],
   "source": [
    "occurrence_two_matrix"
   ]
  },
  {
   "cell_type": "code",
   "execution_count": null,
   "metadata": {},
   "outputs": [],
   "source": [
    "three_word_permutation_list = [[p for p in permutations(three_word_list[k])][1:] for k in range(len(three_word_list))]\n",
    "three_word_permutation_list"
   ]
  },
  {
   "cell_type": "code",
   "execution_count": null,
   "metadata": {},
   "outputs": [],
   "source": [
    "three_word_permutation_set = set(list(chain(*three_word_permutation_list)))\n",
    "three_word_permutation_set"
   ]
  },
  {
   "cell_type": "code",
   "execution_count": null,
   "metadata": {},
   "outputs": [],
   "source": [
    "two_word_permutation_list = [[p for p in permutations(two_word_list[k])][1:] for k in range(len(two_word_list))]\n",
    "two_word_permutation_list"
   ]
  },
  {
   "cell_type": "code",
   "execution_count": null,
   "metadata": {},
   "outputs": [],
   "source": [
    "two_word_permutation_set = set(list(chain(*two_word_permutation_list)))\n",
    "two_word_permutation_set"
   ]
  },
  {
   "cell_type": "code",
   "execution_count": 282,
   "metadata": {},
   "outputs": [],
   "source": [
    "# creating the dictionary\n",
    "dictionary_one_word = dict()\n",
    "\n",
    "# creating the word file\n",
    "words = one_word_list.copy()\n",
    "\n",
    "# getting rid of words with len < 3\n",
    "words = [x for x in words if x != \"\"]\n",
    "words = [x for x in words if x != \" \"]\n",
    "# words = [x for x in words if len(x) > 2]\n",
    "\n",
    "# filtering away stopword matches\n",
    "# words = [x for x in words if x not in stopwords_list]"
   ]
  },
  {
   "cell_type": "code",
   "execution_count": null,
   "metadata": {},
   "outputs": [],
   "source": [
    "# counting word occurances\n",
    "for word in words:\n",
    "    if word in dictionary_one_word:\n",
    "        dictionary_one_word[word] = dictionary_one_word[word] + 1\n",
    "    else:\n",
    "        dictionary_one_word[word] = 1\n",
    "dictionary_one_word"
   ]
  },
  {
   "cell_type": "code",
   "execution_count": 286,
   "metadata": {},
   "outputs": [],
   "source": [
    "# creating the dictionary\n",
    "dictionary_one_word = dictionary_one_word.items()\n",
    "\n",
    "# converting to a dataframe\n",
    "occurrence_one_matrix = pd.DataFrame(dictionary_one_word)\n",
    "\n",
    "# rename columns\n",
    "occurrence_one_matrix = occurrence_one_matrix.rename(columns={0:\"word\", 1:\"occurance\"})\n",
    "\n",
    "# clean of NaN\n",
    "occurrence_one_matrix = occurrence_one_matrix.loc[occurrence_one_matrix.word.isna() == False, ]\n",
    "occurrence_one_matrix = occurrence_one_matrix.loc[occurrence_one_matrix.word != \"None\", ]\n",
    "\n",
    "# sort values\n",
    "occurrence_one_matrix = occurrence_one_matrix.sort_values(\"occurance\", ascending=False)\n",
    "\n",
    "# re-indexing\n",
    "occurrence_one_matrix['index'] = range(len(occurrence_one_matrix))\n",
    "occurrence_one_matrix = occurrence_one_matrix.set_index('index')"
   ]
  },
  {
   "cell_type": "code",
   "execution_count": null,
   "metadata": {},
   "outputs": [],
   "source": [
    "occurrence_one_matrix"
   ]
  },
  {
   "cell_type": "code",
   "execution_count": null,
   "metadata": {},
   "outputs": [],
   "source": [
    "occurrence_two_matrix"
   ]
  },
  {
   "cell_type": "code",
   "execution_count": null,
   "metadata": {},
   "outputs": [],
   "source": [
    "occurrence_three_matrix"
   ]
  },
  {
   "cell_type": "code",
   "execution_count": null,
   "metadata": {},
   "outputs": [],
   "source": [
    "two_word_permutation_set"
   ]
  },
  {
   "cell_type": "code",
   "execution_count": null,
   "metadata": {},
   "outputs": [],
   "source": [
    "three_word_permutation_list"
   ]
  }
 ],
 "metadata": {
  "kernelspec": {
   "display_name": "Python 3.10.4 64-bit",
   "language": "python",
   "name": "python3"
  },
  "language_info": {
   "codemirror_mode": {
    "name": "ipython",
    "version": 3
   },
   "file_extension": ".py",
   "mimetype": "text/x-python",
   "name": "python",
   "nbconvert_exporter": "python",
   "pygments_lexer": "ipython3",
   "version": "3.10.4"
  },
  "orig_nbformat": 4,
  "vscode": {
   "interpreter": {
    "hash": "aee8b7b246df8f9039afb4144a1f6fd8d2ca17a180786b69acc140d282b71a49"
   }
  }
 },
 "nbformat": 4,
 "nbformat_minor": 2
}
