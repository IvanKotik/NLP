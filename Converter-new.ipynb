{
 "cells": [
  {
   "cell_type": "code",
   "execution_count": 35,
   "metadata": {},
   "outputs": [],
   "source": [
    "import PyPDF2\n",
    "import re\n",
    "import requests\n",
    "# import urllib.request\n",
    "# import numpy as np\n",
    "import pandas as pd"
   ]
  },
  {
   "cell_type": "code",
   "execution_count": 3,
   "metadata": {},
   "outputs": [],
   "source": [
    "id_pdf = \"id-0001\""
   ]
  },
  {
   "cell_type": "code",
   "execution_count": 4,
   "metadata": {},
   "outputs": [],
   "source": [
    "def download_pdf(url, file_name, headers):\n",
    "    response = requests.get(url, headers=headers)\n",
    "    if response.status_code == 200:\n",
    "        with open(file_name, \"wb\") as f:\n",
    "            f.write(response.content)\n",
    "    else:\n",
    "        print(response.status_code)"
   ]
  },
  {
   "cell_type": "code",
   "execution_count": 5,
   "metadata": {},
   "outputs": [],
   "source": [
    "if __name__ == \"__main__\":\n",
    "    # Define HTTP Headers\n",
    "    headers = {\n",
    "        \"User-Agent\": \"Chrome/51.0.2704.103\"\n",
    "    }\n",
    "    # Define URL\n",
    "    url = \"https://quantinar.s3.eu-west-3.amazonaws.com/\" \\\n",
    "          \"courselet_components%2F214%2F1649337741164476519520220205+\" \\\n",
    "          \"SFE+Slides+Chapter+2.1+The+Basics+of+Option+Management.pdf\"\n",
    "    # Define image file name\n",
    "    file_name = \"{}.pdf\".format(id_pdf)\n",
    "    # Download image\n",
    "    download_pdf(url, file_name, headers)"
   ]
  },
  {
   "cell_type": "code",
   "execution_count": 6,
   "metadata": {},
   "outputs": [
    {
     "data": {
      "text/plain": [
       "['Ladislaus von Bortkiewicz Professor of Statistics Humboldt-Universität zu Berlin BRC Blockchain Research Center lvb.wiwi.hu-berlin.de Charles University, WISE XMU, NYCU ⽟⼭學者 Jürgen Franke  Wolfgang Härdle Christian Hafner  Statistics of Financial Markets\\n20220205 SFE Slides Chapter 2 The Basics of Option Management.key',\n",
       " 'Chapter 2:  The Basics of Option Management ',\n",
       " 'SFEThe Basics of Option Management \\n01000200030004000X5001000YArbitrage Theory\\n3\\n⊡buy and sell an asset on different stock markets for different prices  ⊡two portfolios with the same current value, same maturity, but different values at maturity ArbitrageArbitrage exists if there is a trading strategy which produces a riskless proﬁt with non zero probability. Example',\n",
       " 'SFEThe Basics of Option Management \\n01000200030004000X5001000Y\\n4Consider two portfolios  and  with current value  and , respectively. Suppose that for some  the terminal value  , and that for some : ABWA(t)WB(t)TWA(T)=WB(T)t<TBy short selling  and buying , and investing the difference BAinto a savings account with interest , the investor does not invest proprietary capital. rArbitrage StrategyWA(t)/uni2264WB(t)/uni0394(t)=WB(t)−WA(t)/uni22650',\n",
       " 'SFEThe Basics of Option Management \\n01000200030004000X5001000Y\\n5However, in  there will be risk-less proﬁt of: THe even could be inﬁnitely rich!!This violates the principle of no arbitrage, and thus it must hold: WA(T)−WB(T)+/uni0394(T)=/uni0394(t)er(T−t)>0WA(t)=WB(t),\\xa0for\\xa0all\\xa0t',\n",
       " 'SFEThe Basics of Option Management \\n01000200030004000X5001000Y\\n6Basic assumption for the remainder: No Arbitrage i.e., prices of derivatives must not permit arbitrage.',\n",
       " 'SFEThe Basics of Option Management \\n01000200030004000X5001000YPerfect Financial Market\\n7⊡debit interest rate = credit interest rate  ⊡no transaction costs  ⊡no taxes  ⊡short-selling is allowed  ⊡stocks are unlimitedly divisible  ⊡no arbitrage ',\n",
       " 'SFEThe Basics of Option Management \\n01000200030004000X5001000Y\\n8Price of a forward contract KTStVK,T(St,/uni03C4)Delivery price: Maturity date: Underlying price: Price at time t:',\n",
       " 'SFEThe Basics of Option Management \\n01000200030004000X5001000Y\\n9Proposition 2.1 Under the assumption of a perfect market and the additional assumption of a constant interest rate  during the time interval  the following holds:r/uni03C4=T−t1.With no dividend payments or costs of carry, we have and .Ft=Ster/uni03C4V(St,/uni03C4)=VK,T(St,/uni03C4)=St−Ke−r/uni03C4',\n",
       " 'SFEThe Basics of Option Management \\n01000200030004000X5001000Y\\n102.If  is the value of all earnings and costs related to the underlying during the time period  calculated at time t, we have:Dt/uni03C4and . Ft=(St−Dt)er/uni03C43.If we have continuous costs of carry, b, then the value of the forward contract at time t is:and . Ft=Steb/uni03C4V(St,/uni03C4)=VK,T(St,/uni03C4)=St−Dt−Ke−r/uni03C4V(St,/uni03C4)=VK,T(St,/uni03C4)=Ste(b−r)/uni03C4−Ke−r/uni03C4',\n",
       " 'SFEThe Basics of Option Management \\n01000200030004000X5001000Y\\n11Proof:  [case 1] There are no dividend payments. Portfolio A a long position in a forward contract with strike , maturity date  and a long position in a zero bond with nominal value  and expiration . KTKT\\nPortfolio A = Portfolio B VK,T(St,/uni03C4)+Ke−r/uni03C4=St(2.1)andPortfolio B a long position in the asset. Both portfolios have the same value  at time , and hence by no arbitrage must have the same value at time , STTt',\n",
       " 'SFEThe Basics of Option Management \\n01000200030004000X5001000Y\\n12We have to show that : VFt,T(/uni22C5)=0Inserting  in  for  yields: FT=Stet/uni03C4(2.1)KThus,  and hence .  VFt,T(St,/uni03C4)+Ste−r/uni03C4er/uni03C4=StVFt,/uni03C4(St,/uni03C4)=0VFt,T(St,/uni03C4)+Fte−r/uni03C4=St',\n",
       " 'SFEThe Basics of Option Management \\n01000200030004000X5001000Y\\n13[cases 2 and 3] Assume the asset pays discrete dividends . DtPortfolio B a long position in the asset and a short position in a zerobond with current value  at time  and expiration date . DttTBoth portfolios have the same value  at time , and hence by no arbitrage must have the same value at time ,  STTtPortfolio A = Portfolio B Portfolio A a long position in a forward contract with strike , maturity date  and a long position in a zerobond with nominal value  and expiration .KTKTVK,T(St,/uni03C4)+Ke−r/uni03C4=St−Dt(2.2)and',\n",
       " 'SFEThe Basics of Option Management \\n01000200030004000X5001000Y\\n14We have to show that :VFt,T(/uni22C5)=0VFt,T(St,/uni03C4)+Fte−r/uni03C4=StThus,  and hence .VFt,T(St,/uni03C4)+Ste−r/uni03C4er/uni03C4=StVFt,T(St,/uni03C4)=0Inserting  in  for  yields: Ft=Stet/uni03C4(2.1)Klink (press Z to return to this page)',\n",
       " 'SFEThe Basics of Option Management \\n01000200030004000X5001000Y\\n15If we have continuous dividend payment  we change portfolio B to Portfolio B, buy  shares of the asset and reinvest all dividend payments in the asset.de(b−r)/uni03C4=e−d/uni03C4The result follows by similar arguments as in the discrete dividend case.Again for  we have .Ft=Steb/uni03C4VK,T(St,/uni03C4)=0VK,T(St,/uni03C4)+Ke−r/uni03C4=e−d/uni03C4St',\n",
       " 'SFEThe Basics of Option Management \\n01000200030004000X5001000Y\\n16Example: Forward contract with discrete dividendsCoupon payments of  in  and  months from now Continuous interest rate for   months:606126(12)We have for     :and the value of the forward contract is: The forward price  is .FtFt=(St−Dt)er/uni03C4=871.26Dt=60e−0.09/uni22C512+60e−0.10=111.65(2.3)VK,T(St,/uni03C4)=900−111.65−910e−0.10=−35.05(2.4)Consider a forward contract on a ﬁve-year bond with:Bond price at time : Delivery price: Time to maturity:tSt=900K=910/uni03C4=T−t=1\\xa0year,   r6=9%r12=10%Dt',\n",
       " 'SFEThe Basics of Option Management \\n01000200030004000X5001000Y\\n17Example: Forward contract with continuous dividends\\nThen the forward price is . For  we have a premium  if  a discount . If  and  then .Ft=Steb/uni03C4=Ste(r−d)/uni03C4r>dSt<Ftr<dSt>Ftr>dK=StVSt,T=St(e−d/uni03C4−e−r/uni03C4)>0The forward contract at delivery price  is more expensive than the spot price, as the investor proﬁts from the higher interest rates in the domestic currency till . StTdr(rA)StAssumeCost of carryDividend yieldDomestic (American) interest raterA=db=r−dUSD exchange rate',\n",
       " 'SFEThe Basics of Option Management \\n01000200030004000X5001000Y\\n18Proposition 2.2 If the interest rate is constant during the maturity of the contract, the future and the forward price are equal.Proof: Let  days,  be the forward price at the end of day ,  be the future price at the end of day  and let  be the daily interest rate, at which daily proﬁt loss calculations occur. We consider two portfolios:/uni03C4=NF0Ftt=0,…,N/uni03C1Portfolio A buy  forward contracts and buy a zerobond with nominal value  and with  days to expiration.eN/uni03C1FeN/uni03C1NPortfolio B buy future contracts such that there are  contracts in the portfolio at the end of day  and buy a zerobond with nominal value  and  days to expiration.e(t+1)/uni03C1teN/uni03C1F0N',\n",
       " 'SFEThe Basics of Option Management \\n01000200030004000X5001000Y\\n19Portfolio A After day , i.e. at the expiration date, portfolio A contains a total of  zerobonds which are used to fulﬁl the forward contract, i.e. to buy  underlying at the delivery price . Thus the total value of portfolio A at the end of day  is .NFeN/uni03C1eN/uni03C1FNSNeN/uni03C1',\n",
       " 'SFEThe Basics of Option Management \\n01000200030004000X5001000Y\\n20Portfolio B Now consider portfolio B with future contracts. The proﬁt-loss calculation of the  futures at the beginning of day  yields . Throughout the day more futures are bought into the portfolio so that at the end of the day a total of  futures are in the portfolio (remember that no cash-ﬂow is triggered by this purchase). The change of the portfolio value has a future value on day  of:et/uni03C1t(Ft−Ft−1)et/uni03C1e(t+1)/uni03C1N(Ft−Ft−1)et/uni03C1/uni22C5e(N−t)/uni03C1=(Ft−Ft−1)eN/uni03C1(2.5)',\n",
       " 'SFEThe Basics of Option Management \\n01000200030004000X5001000Y\\n21Since changes in the value of the future are settled every day, the cumulative return on day  is:NN/uni2211t=1(Ft−Ft−1)eN/uni03C1=(FN−F0)eN/uni03C1(2.6)Together with the zerobond it follows that the value of portfolio B at  is , which is exactly . The same holds for portfolio A. Thus assuming no arbitrage the two portfolios must have the same value at day .t=NFN−F0eN/uni03C1+F0eN/uni03C1FNeN/uni03C1=SNeN/uni03C1t=0',\n",
       " 'SFEThe Basics of Option Management \\n01000200030004000X5001000Y\\n22As the future and the forward contract have a value of zero at day , only the prices of zerobonds have to be considered.  It follows that:t=00+FeN/uni03C1=0+F0eN/uni03C1F=F0and',\n",
       " 'SFEThe Basics of Option Management \\n01000200030004000X5001000YOption Pricing\\n23Payoff functions The payoff function of a call is   The payoff function of a put is .max(ST−K,\\xa00)max(K−ST,\\xa00)Intrinsic value Intrinsic value of a call is  Intrinsic value of a put .max(St−K,\\xa00)max(K−St,\\xa00)',\n",
       " 'SFEThe Basics of Option Management \\n01000200030004000X5001000Y\\n24In the money (ITM) An option is called ITM if its intrinsic value is nonzero.At the money (ATM) An option is called ATM if .St/uni2248KOut of the money (OTM) An option is called OTM if its intrinsic value is zero.',\n",
       " 'SFEThe Basics of Option Management \\n01000200030004000X5001000YElementary Properties of Option Prices\\n25⊡option prices are non-negative ⊡the price of a European option at maturity  is equal to the price of an American option at maturity  ⊡the price of an American option is larger or equal than its intrinsic value (this is not true for European options)TT',\n",
       " 'SFEThe Basics of Option Management \\n01000200030004000X5001000Y\\n26⊡for two American options  and  differing only by time to maturity, , the following holds:Cam1Cam2T1/uni2264T2CamK,T1(St,T1−t)/uni2264CamK,T2(St,T2−t)PamK,T1(St,T1−t)/uni2264PamK,T2(St,T2−t)Since:CamK,T2(St,T2−T1)/uni2265intrinsic\\xa0value\\xa0=max(St−K,\\xa00)=CamK,T1(St,\\xa00)\\xa0,\\xa0/uni2200t(not true in general for European options)',\n",
       " 'SFEThe Basics of Option Management \\n01000200030004000X5001000Y\\n27⊡the price of an American option is always bigger than or equal to the price of the corresponding European option ⊡call prices are monotone decreasing functions of strike prices ⊡put prices are monotone increasing functions of strike prices']"
      ]
     },
     "execution_count": 6,
     "metadata": {},
     "output_type": "execute_result"
    }
   ],
   "source": [
    "imported_pdf = open(file_name, 'rb')\n",
    "transformed_pdf = PyPDF2.PdfFileReader(imported_pdf)\n",
    "totalpages = transformed_pdf.numPages\n",
    "pdf_output = [transformed_pdf.getPage(i) for i in range(totalpages)]\n",
    "pdf_output = [pdf_output[i].extractText() for i in range(totalpages)]\n",
    "pdf_output"
   ]
  },
  {
   "cell_type": "code",
   "execution_count": 23,
   "metadata": {},
   "outputs": [
    {
     "data": {
      "text/plain": [
       "['Ladislaus von Bortkiewicz Professor of Statistics Humboldt Universität zu Berlin BRC Blockchain Research Center lvb wiwi hu berlin de Charles University WISE XMU NYCU ⽟⼭學者 Jürgen Franke Wolfgang Härdle Christian Hafner Statistics of Financial Markets SFE Slides Chapter The Basics of Option Management key',\n",
       " 'Chapter The Basics of Option Management ',\n",
       " 'SFEThe Basics of Option Management YArbitrage Theory ⊡buy and sell an asset on different stock markets for different prices ⊡two portfolios with the same current value same maturity but different values at maturity ArbitrageArbitrage exists if there is trading strategy which produces riskless proﬁt with non zero probability Example',\n",
       " 'SFEThe Basics of Option Management Consider two portfolios and with current value and respectively Suppose that for some the terminal value and that for some ABWA WB TWA WB TBy short selling and buying and investing the difference BAinto savings account with interest the investor does not invest proprietary capital rArbitrage StrategyWA uni WB uni WB −WA uni ',\n",
       " 'SFEThe Basics of Option Management However in there will be risk less proﬁt of THe even could be inﬁnitely rich This violates the principle of no arbitrage and thus it must hold WA −WB uni uni er T−t WA WB for\\xa0all\\xa0t',\n",
       " 'SFEThe Basics of Option Management Basic assumption for the remainder No Arbitrage prices of derivatives must not permit arbitrage ',\n",
       " 'SFEThe Basics of Option Management YPerfect Financial Market ⊡debit interest rate credit interest rate ⊡no transaction costs ⊡no taxes ⊡short selling is allowed ⊡stocks are unlimitedly divisible ⊡no arbitrage ',\n",
       " 'SFEThe Basics of Option Management Price of forward contract KTStVK St uni Delivery price Maturity date Underlying price Price at time ',\n",
       " 'SFEThe Basics of Option Management Proposition Under the assumption of perfect market and the additional assumption of constant interest rate during the time interval the following holds uni T−t With no dividend payments or costs of carry we have and Ft Ster uni St uni VK St uni St−Ke−r uni ',\n",
       " 'SFEThe Basics of Option Management If is the value of all earnings and costs related to the underlying during the time period calculated at time we have Dt uni and Ft St−Dt er uni If we have continuous costs of carry then the value of the forward contract at time is and Ft Steb uni St uni VK St uni St−Dt−Ke−r uni St uni VK St uni Ste b−r uni −Ke−r uni ',\n",
       " 'SFEThe Basics of Option Management Proof case There are no dividend payments Portfolio long position in forward contract with strike maturity date and long position in zero bond with nominal value and expiration KTKT\\nPortfolio Portfolio VK St uni Ke−r uni St andPortfolio long position in the asset Both portfolios have the same value at time and hence by no arbitrage must have the same value at time STTt',\n",
       " 'SFEThe Basics of Option Management We have to show that VFt uni Inserting in for yields FT Stet uni KThus and hence VFt St uni Ste−r uni er uni StVFt uni St uni VFt St uni Fte−r uni St',\n",
       " 'SFEThe Basics of Option Management cases and Assume the asset pays discrete dividends DtPortfolio long position in the asset and short position in zerobond with current value at time and expiration date DttTBoth portfolios have the same value at time and hence by no arbitrage must have the same value at time STTtPortfolio Portfolio Portfolio long position in forward contract with strike maturity date and long position in zerobond with nominal value and expiration KTKTVK St uni Ke−r uni St−Dt and',\n",
       " 'SFEThe Basics of Option Management We have to show that VFt uni VFt St uni Fte−r uni StThus and hence VFt St uni Ste−r uni er uni StVFt St uni Inserting in for yields Ft Stet uni Klink press to return to this page ',\n",
       " 'SFEThe Basics of Option Management If we have continuous dividend payment we change portfolio to Portfolio buy shares of the asset and reinvest all dividend payments in the asset de b−r uni e−d uni The result follows by similar arguments as in the discrete dividend case Again for we have Ft Steb uni VK St uni VK St uni Ke−r uni e−d uni St',\n",
       " 'SFEThe Basics of Option Management Example Forward contract with discrete dividendsCoupon payments of in and months from now Continuous interest rate for months We have for and the value of the forward contract is The forward price is FtFt St−Dt er uni Dt e− uni e− VK St uni − − e− − Consider forward contract on ﬁve year bond with Bond price at time Delivery price Time to maturity tSt uni T−t year Dt',\n",
       " 'SFEThe Basics of Option Management Example Forward contract with continuous dividends\\nThen the forward price is For we have premium if discount If and then Ft Steb uni Ste r−d uni dSt Ftr dSt Ftr dK StVSt St e−d uni −e−r uni The forward contract at delivery price is more expensive than the spot price as the investor proﬁts from the higher interest rates in the domestic currency till StTdr rA StAssumeCost of carryDividend yieldDomestic American interest raterA db r−dUSD exchange rate',\n",
       " 'SFEThe Basics of Option Management Proposition If the interest rate is constant during the maturity of the contract the future and the forward price are equal Proof Let days be the forward price at the end of day be the future price at the end of day and let be the daily interest rate at which daily proﬁt loss calculations occur We consider two portfolios uni NF Ftt … uni Portfolio buy forward contracts and buy zerobond with nominal value and with days to expiration eN uni FeN uni NPortfolio buy future contracts such that there are contracts in the portfolio at the end of day and buy zerobond with nominal value and days to expiration uni teN uni N',\n",
       " 'SFEThe Basics of Option Management Portfolio After day at the expiration date portfolio contains total of zerobonds which are used to fulﬁl the forward contract to buy underlying at the delivery price Thus the total value of portfolio at the end of day is NFeN uni eN uni FNSNeN uni ',\n",
       " 'SFEThe Basics of Option Management Portfolio Now consider portfolio with future contracts The proﬁt loss calculation of the futures at the beginning of day yields Throughout the day more futures are bought into the portfolio so that at the end of the day total of futures are in the portfolio remember that no cash ﬂow is triggered by this purchase The change of the portfolio value has future value on day of et uni Ft−Ft− et uni uni Ft−Ft− et uni uni N−t uni Ft−Ft− eN uni ',\n",
       " 'SFEThe Basics of Option Management Since changes in the value of the future are settled every day the cumulative return on day is NN uni Ft−Ft− eN uni FN−F eN uni Together with the zerobond it follows that the value of portfolio at is which is exactly The same holds for portfolio Thus assuming no arbitrage the two portfolios must have the same value at day NFN−F eN uni eN uni FNeN uni SNeN uni ',\n",
       " 'SFEThe Basics of Option Management As the future and the forward contract have value of zero at day only the prices of zerobonds have to be considered It follows that FeN uni eN uni and',\n",
       " 'SFEThe Basics of Option Management YOption Pricing Payoff functions The payoff function of call is The payoff function of put is max ST−K max K−ST Intrinsic value Intrinsic value of call is Intrinsic value of put max St−K max K−St ',\n",
       " 'SFEThe Basics of Option Management In the money ITM An option is called ITM if its intrinsic value is nonzero At the money ATM An option is called ATM if St uni KOut of the money OTM An option is called OTM if its intrinsic value is zero ',\n",
       " 'SFEThe Basics of Option Management YElementary Properties of Option Prices ⊡option prices are non negative ⊡the price of European option at maturity is equal to the price of an American option at maturity ⊡the price of an American option is larger or equal than its intrinsic value this is not true for European options TT',\n",
       " 'SFEThe Basics of Option Management ⊡for two American options and differing only by time to maturity the following holds Cam Cam uni CamK St −t uni CamK St −t PamK St −t uni PamK St −t Since CamK St −T uni intrinsic\\xa0value max St−K CamK St uni not true in general for European options ',\n",
       " 'SFEThe Basics of Option Management ⊡the price of an American option is always bigger than or equal to the price of the corresponding European option ⊡call prices are monotone decreasing functions of strike prices ⊡put prices are monotone increasing functions of strike prices']"
      ]
     },
     "execution_count": 23,
     "metadata": {},
     "output_type": "execute_result"
    }
   ],
   "source": [
    "pdf_output = [re.sub(pattern = \"http[^ ]*\", repl = \" \", string = pdf_output[i]) for i in range(totalpages)]\n",
    "pdf_output = [re.sub(pattern = \"(\\)|\\(|,|\\.|!|=|:|\\[|\\]|\\{|\\}|\\'|\\\"|#|<|>|\\%|\\&|\\?|\\*|\\/|-|\\$|\\+|\\d)\", repl = \" \", string = pdf_output[i]) for i in range(totalpages)]\n",
    "pdf_output = [re.sub(pattern = \"\\s{2,}\", repl = \" \", string = pdf_output[i]) for i in range(totalpages)]\n",
    "pdf_output = [re.sub(pattern = \" \\w \", repl = \" \", string = pdf_output[i]) for i in range(totalpages)]\n",
    "pdf_output = [re.sub(pattern = \" \\w \", repl = \" \", string = pdf_output[i]) for i in range(totalpages)]\n",
    "pdf_output"
   ]
  },
  {
   "cell_type": "code",
   "execution_count": 59,
   "metadata": {},
   "outputs": [],
   "source": [
    "word_list = [pdf_output[i].split(\" \") for i in range(totalpages)]\n",
    "word_list = pd.DataFrame(word_list)\n",
    "# works"
   ]
  },
  {
   "cell_type": "code",
   "execution_count": 61,
   "metadata": {},
   "outputs": [],
   "source": [
    "three_word = [[word_list.iloc[j, i], word_list.iloc[j, i+1], word_list.iloc[j, i+2]] for j in range(totalpages) for i in range(len(word_list) - 2) ]\n",
    "two_word = [[word_list.iloc[j, i], word_list.iloc[j, i+1]] for j in range(totalpages)  for i in range(len(word_list) - 1)]\n",
    "one_word = [word_list.iloc[j, i] for j in range(totalpages) for i in range(len(word_list))]"
   ]
  },
  {
   "cell_type": "markdown",
   "metadata": {},
   "source": [
    "-------------------------------"
   ]
  },
  {
   "cell_type": "code",
   "execution_count": null,
   "metadata": {},
   "outputs": [],
   "source": [
    "# deleting spaces\n",
    "combined_pages_w = combined_pages.strip()\n",
    "\n",
    "# lowercase\n",
    "combined_pages_w = combined_pages_w.lower()\n",
    "\n",
    "# deleting the newline command\n",
    "combined_pages_w = re.sub(pattern = \"\\n\", repl = \" \", string = combined_pages_w)\n",
    "\n",
    "# deleting the weblinks\n",
    "combined_pages_w = re.sub(pattern = \"http[^ ]*\", repl = \" \", string = combined_pages_w)\n",
    "\n",
    "# deleting numbers and brackets etc.\n",
    "combined_pages_w = re.sub(pattern = \"\\d\", repl = \"\", string = combined_pages_w)\n",
    "combined_pages_w = re.sub(pattern = \"(\\)|\\(|,|\\.|!|=|:|\\[|\\]|\\{|\\}|\\'|\\\"|#|<|>|\\%|\\&|\\?|\\*|\\/|-|\\$|\\+)\", repl = \"\", string = combined_pages_w)\n",
    "\n",
    "# deleting extra spaces\n",
    "combined_pages_w = re.sub(pattern = \"\\s{2,}\", repl = \" \", string = combined_pages_w)\n"
   ]
  }
 ],
 "metadata": {
  "kernelspec": {
   "display_name": "Python 3.10.4 64-bit",
   "language": "python",
   "name": "python3"
  },
  "language_info": {
   "codemirror_mode": {
    "name": "ipython",
    "version": 3
   },
   "file_extension": ".py",
   "mimetype": "text/x-python",
   "name": "python",
   "nbconvert_exporter": "python",
   "pygments_lexer": "ipython3",
   "version": "3.10.4"
  },
  "orig_nbformat": 4,
  "vscode": {
   "interpreter": {
    "hash": "aee8b7b246df8f9039afb4144a1f6fd8d2ca17a180786b69acc140d282b71a49"
   }
  }
 },
 "nbformat": 4,
 "nbformat_minor": 2
}
